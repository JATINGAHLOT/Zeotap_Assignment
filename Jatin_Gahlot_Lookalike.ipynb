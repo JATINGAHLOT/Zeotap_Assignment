{
  "nbformat": 4,
  "nbformat_minor": 0,
  "metadata": {
    "colab": {
      "provenance": []
    },
    "kernelspec": {
      "name": "python3",
      "display_name": "Python 3"
    },
    "language_info": {
      "name": "python"
    }
  },
  "cells": [
    {
      "cell_type": "code",
      "execution_count": 1,
      "metadata": {
        "colab": {
          "base_uri": "https://localhost:8080/"
        },
        "id": "j6TrdRDq65Hb",
        "outputId": "ce045246-2733-4dff-b59f-4c517a0693ca"
      },
      "outputs": [
        {
          "output_type": "stream",
          "name": "stdout",
          "text": [
            "Mounted at /content/drive\n"
          ]
        }
      ],
      "source": [
        "from google.colab import drive\n",
        "drive.mount('/content/drive')\n"
      ]
    },
    {
      "cell_type": "code",
      "source": [
        "import pandas as pd\n",
        "import numpy as np"
      ],
      "metadata": {
        "id": "qoOtzhrc7rEb"
      },
      "execution_count": 2,
      "outputs": []
    },
    {
      "cell_type": "code",
      "source": [
        "# Load datasets\n",
        "customers = pd.read_csv(\"/content/drive/MyDrive/Zeotapfiles/Customers.csv\")\n",
        "transactions = pd.read_csv(\"/content/drive/MyDrive/Zeotapfiles/Transactions.csv\")\n",
        "products = pd.read_csv(\"/content/drive/MyDrive/Zeotapfiles/Products.csv\")"
      ],
      "metadata": {
        "id": "QscAWVAJ7wqz"
      },
      "execution_count": 3,
      "outputs": []
    },
    {
      "cell_type": "code",
      "source": [
        "from sklearn.preprocessing import StandardScaler, OneHotEncoder\n",
        "from sklearn.metrics.pairwise import cosine_similarity\n"
      ],
      "metadata": {
        "id": "foeA7eks77R4"
      },
      "execution_count": 4,
      "outputs": []
    },
    {
      "cell_type": "code",
      "source": [
        "# Merge Customers and Transactions on CustomerID\n",
        "merged_data = pd.merge(transactions, customers, on=\"CustomerID\")\n"
      ],
      "metadata": {
        "id": "Fzn6pya78AUy"
      },
      "execution_count": 5,
      "outputs": []
    },
    {
      "cell_type": "code",
      "source": [
        "# Create customer profiles\n",
        "customer_profiles = merged_data.groupby(\"CustomerID\").agg(\n",
        "    TotalSpend=(\"TotalValue\", \"sum\"),\n",
        "    AvgTransactionValue=(\"TotalValue\", \"mean\"),\n",
        "    FavoriteCategory=(\"ProductID\", lambda x: x.mode()[0]),  # Most frequent category\n",
        "    Region=(\"Region\", \"first\"),  # Region is the same for each customer\n",
        "    SignupDate=(\"SignupDate\", \"first\")  # SignupDate is the same for each customer\n",
        ").reset_index()"
      ],
      "metadata": {
        "id": "bJDQKbH384oZ"
      },
      "execution_count": 6,
      "outputs": []
    },
    {
      "cell_type": "code",
      "source": [
        "print(customer_profiles.columns)"
      ],
      "metadata": {
        "colab": {
          "base_uri": "https://localhost:8080/"
        },
        "id": "pVxib4JR98be",
        "outputId": "537887e8-286c-4ed6-eed9-4017a0282a93"
      },
      "execution_count": 7,
      "outputs": [
        {
          "output_type": "stream",
          "name": "stdout",
          "text": [
            "Index(['CustomerID', 'TotalSpend', 'AvgTransactionValue', 'FavoriteCategory',\n",
            "       'Region', 'SignupDate'],\n",
            "      dtype='object')\n"
          ]
        }
      ]
    },
    {
      "cell_type": "code",
      "source": [
        "#Display customer profiles\n",
        "print(customer_profiles.head())\n"
      ],
      "metadata": {
        "colab": {
          "base_uri": "https://localhost:8080/"
        },
        "id": "de0lUQna9NzA",
        "outputId": "2a79fce7-75cc-4421-9fdc-0ce90ee81c18"
      },
      "execution_count": 8,
      "outputs": [
        {
          "output_type": "stream",
          "name": "stdout",
          "text": [
            "  CustomerID  TotalSpend  AvgTransactionValue FavoriteCategory         Region  \\\n",
            "0      C0001     3354.52              670.904             P022  South America   \n",
            "1      C0002     1862.74              465.685             P004           Asia   \n",
            "2      C0003     2725.38              681.345             P002  South America   \n",
            "3      C0004     5354.88              669.360             P008  South America   \n",
            "4      C0005     2034.24              678.080             P012           Asia   \n",
            "\n",
            "   SignupDate  \n",
            "0  2022-07-10  \n",
            "1  2022-02-13  \n",
            "2  2024-03-07  \n",
            "3  2022-10-09  \n",
            "4  2022-08-15  \n"
          ]
        }
      ]
    },
    {
      "cell_type": "markdown",
      "source": [
        "**Step 2: Feature Engineering**"
      ],
      "metadata": {
        "id": "Z9uGI-2m9W8g"
      }
    },
    {
      "cell_type": "code",
      "source": [
        "encoder = OneHotEncoder(sparse_output=False, drop=\"first\")  # Use sparse_output\n",
        "encoded_features = encoder.fit_transform(customer_profiles[[\"Region\", \"FavoriteCategory\"]])\n",
        "encoded_df = pd.DataFrame(encoded_features, columns=encoder.get_feature_names_out([\"Region\", \"FavoriteCategory\"]))\n"
      ],
      "metadata": {
        "id": "HFJ8KmerAVR4"
      },
      "execution_count": 9,
      "outputs": []
    },
    {
      "cell_type": "code",
      "source": [
        "print(encoded_df)"
      ],
      "metadata": {
        "colab": {
          "base_uri": "https://localhost:8080/"
        },
        "id": "3QNpYyxbA7Tn",
        "outputId": "0c7498df-a5ed-4761-a549-1a0c58da3401"
      },
      "execution_count": 10,
      "outputs": [
        {
          "output_type": "stream",
          "name": "stdout",
          "text": [
            "     Region_Europe  Region_North America  Region_South America  \\\n",
            "0              0.0                   0.0                   1.0   \n",
            "1              0.0                   0.0                   0.0   \n",
            "2              0.0                   0.0                   1.0   \n",
            "3              0.0                   0.0                   1.0   \n",
            "4              0.0                   0.0                   0.0   \n",
            "..             ...                   ...                   ...   \n",
            "194            1.0                   0.0                   0.0   \n",
            "195            1.0                   0.0                   0.0   \n",
            "196            1.0                   0.0                   0.0   \n",
            "197            1.0                   0.0                   0.0   \n",
            "198            0.0                   0.0                   0.0   \n",
            "\n",
            "     FavoriteCategory_P002  FavoriteCategory_P003  FavoriteCategory_P004  \\\n",
            "0                      0.0                    0.0                    0.0   \n",
            "1                      0.0                    0.0                    1.0   \n",
            "2                      1.0                    0.0                    0.0   \n",
            "3                      0.0                    0.0                    0.0   \n",
            "4                      0.0                    0.0                    0.0   \n",
            "..                     ...                    ...                    ...   \n",
            "194                    0.0                    0.0                    0.0   \n",
            "195                    0.0                    0.0                    0.0   \n",
            "196                    0.0                    0.0                    0.0   \n",
            "197                    0.0                    0.0                    0.0   \n",
            "198                    0.0                    0.0                    0.0   \n",
            "\n",
            "     FavoriteCategory_P005  FavoriteCategory_P006  FavoriteCategory_P007  \\\n",
            "0                      0.0                    0.0                    0.0   \n",
            "1                      0.0                    0.0                    0.0   \n",
            "2                      0.0                    0.0                    0.0   \n",
            "3                      0.0                    0.0                    0.0   \n",
            "4                      0.0                    0.0                    0.0   \n",
            "..                     ...                    ...                    ...   \n",
            "194                    0.0                    0.0                    0.0   \n",
            "195                    0.0                    0.0                    0.0   \n",
            "196                    0.0                    0.0                    0.0   \n",
            "197                    0.0                    0.0                    0.0   \n",
            "198                    0.0                    0.0                    0.0   \n",
            "\n",
            "     FavoriteCategory_P008  ...  FavoriteCategory_P076  FavoriteCategory_P078  \\\n",
            "0                      0.0  ...                    0.0                    0.0   \n",
            "1                      0.0  ...                    0.0                    0.0   \n",
            "2                      0.0  ...                    0.0                    0.0   \n",
            "3                      1.0  ...                    0.0                    0.0   \n",
            "4                      0.0  ...                    0.0                    0.0   \n",
            "..                     ...  ...                    ...                    ...   \n",
            "194                    0.0  ...                    0.0                    0.0   \n",
            "195                    0.0  ...                    0.0                    0.0   \n",
            "196                    0.0  ...                    0.0                    0.0   \n",
            "197                    1.0  ...                    0.0                    0.0   \n",
            "198                    0.0  ...                    0.0                    0.0   \n",
            "\n",
            "     FavoriteCategory_P079  FavoriteCategory_P080  FavoriteCategory_P081  \\\n",
            "0                      0.0                    0.0                    0.0   \n",
            "1                      0.0                    0.0                    0.0   \n",
            "2                      0.0                    0.0                    0.0   \n",
            "3                      0.0                    0.0                    0.0   \n",
            "4                      0.0                    0.0                    0.0   \n",
            "..                     ...                    ...                    ...   \n",
            "194                    1.0                    0.0                    0.0   \n",
            "195                    0.0                    0.0                    0.0   \n",
            "196                    0.0                    0.0                    0.0   \n",
            "197                    0.0                    0.0                    0.0   \n",
            "198                    0.0                    0.0                    0.0   \n",
            "\n",
            "     FavoriteCategory_P082  FavoriteCategory_P087  FavoriteCategory_P094  \\\n",
            "0                      0.0                    0.0                    0.0   \n",
            "1                      0.0                    0.0                    0.0   \n",
            "2                      0.0                    0.0                    0.0   \n",
            "3                      0.0                    0.0                    0.0   \n",
            "4                      0.0                    0.0                    0.0   \n",
            "..                     ...                    ...                    ...   \n",
            "194                    0.0                    0.0                    0.0   \n",
            "195                    0.0                    0.0                    0.0   \n",
            "196                    0.0                    0.0                    0.0   \n",
            "197                    0.0                    0.0                    0.0   \n",
            "198                    0.0                    0.0                    0.0   \n",
            "\n",
            "     FavoriteCategory_P096  FavoriteCategory_P100  \n",
            "0                      0.0                    0.0  \n",
            "1                      0.0                    0.0  \n",
            "2                      0.0                    0.0  \n",
            "3                      0.0                    0.0  \n",
            "4                      0.0                    0.0  \n",
            "..                     ...                    ...  \n",
            "194                    0.0                    0.0  \n",
            "195                    0.0                    0.0  \n",
            "196                    0.0                    0.0  \n",
            "197                    0.0                    0.0  \n",
            "198                    0.0                    0.0  \n",
            "\n",
            "[199 rows x 72 columns]\n"
          ]
        }
      ]
    },
    {
      "cell_type": "code",
      "source": [
        "# Normalize numerical features (TotalSpend, AvgTransactionValue)\n",
        "scaler = StandardScaler()\n",
        "scaled_features = scaler.fit_transform(customer_profiles[[\"TotalSpend\", \"AvgTransactionValue\"]])\n",
        "scaled_df = pd.DataFrame(scaled_features, columns=[\"TotalSpend\", \"AvgTransactionValue\"])\n"
      ],
      "metadata": {
        "id": "q-HC2BxLBAYw"
      },
      "execution_count": 11,
      "outputs": []
    },
    {
      "cell_type": "code",
      "source": [
        "# Combine encoded and scaled features\n",
        "features = pd.concat([customer_profiles[\"CustomerID\"], encoded_df, scaled_df], axis=1)\n"
      ],
      "metadata": {
        "id": "DxHZH1sABP3-"
      },
      "execution_count": 12,
      "outputs": []
    },
    {
      "cell_type": "code",
      "source": [
        "# Display engineered features\n",
        "print(features.head())"
      ],
      "metadata": {
        "colab": {
          "base_uri": "https://localhost:8080/"
        },
        "id": "DjUjZsfuBS1_",
        "outputId": "7f727545-fa43-4e24-aafa-439d9bfece29"
      },
      "execution_count": 13,
      "outputs": [
        {
          "output_type": "stream",
          "name": "stdout",
          "text": [
            "  CustomerID  Region_Europe  Region_North America  Region_South America  \\\n",
            "0      C0001            0.0                   0.0                   1.0   \n",
            "1      C0002            0.0                   0.0                   0.0   \n",
            "2      C0003            0.0                   0.0                   1.0   \n",
            "3      C0004            0.0                   0.0                   1.0   \n",
            "4      C0005            0.0                   0.0                   0.0   \n",
            "\n",
            "   FavoriteCategory_P002  FavoriteCategory_P003  FavoriteCategory_P004  \\\n",
            "0                    0.0                    0.0                    0.0   \n",
            "1                    0.0                    0.0                    1.0   \n",
            "2                    1.0                    0.0                    0.0   \n",
            "3                    0.0                    0.0                    0.0   \n",
            "4                    0.0                    0.0                    0.0   \n",
            "\n",
            "   FavoriteCategory_P005  FavoriteCategory_P006  FavoriteCategory_P007  ...  \\\n",
            "0                    0.0                    0.0                    0.0  ...   \n",
            "1                    0.0                    0.0                    0.0  ...   \n",
            "2                    0.0                    0.0                    0.0  ...   \n",
            "3                    0.0                    0.0                    0.0  ...   \n",
            "4                    0.0                    0.0                    0.0  ...   \n",
            "\n",
            "   FavoriteCategory_P079  FavoriteCategory_P080  FavoriteCategory_P081  \\\n",
            "0                    0.0                    0.0                    0.0   \n",
            "1                    0.0                    0.0                    0.0   \n",
            "2                    0.0                    0.0                    0.0   \n",
            "3                    0.0                    0.0                    0.0   \n",
            "4                    0.0                    0.0                    0.0   \n",
            "\n",
            "   FavoriteCategory_P082  FavoriteCategory_P087  FavoriteCategory_P094  \\\n",
            "0                    0.0                    0.0                    0.0   \n",
            "1                    0.0                    0.0                    0.0   \n",
            "2                    0.0                    0.0                    0.0   \n",
            "3                    0.0                    0.0                    0.0   \n",
            "4                    0.0                    0.0                    0.0   \n",
            "\n",
            "   FavoriteCategory_P096  FavoriteCategory_P100  TotalSpend  \\\n",
            "0                    0.0                    0.0   -0.061701   \n",
            "1                    0.0                    0.0   -0.877744   \n",
            "2                    0.0                    0.0   -0.405857   \n",
            "3                    0.0                    0.0    1.032547   \n",
            "4                    0.0                    0.0   -0.783929   \n",
            "\n",
            "   AvgTransactionValue  \n",
            "0            -0.070263  \n",
            "1            -0.934933  \n",
            "2            -0.026271  \n",
            "3            -0.076769  \n",
            "4            -0.040028  \n",
            "\n",
            "[5 rows x 75 columns]\n"
          ]
        }
      ]
    },
    {
      "cell_type": "markdown",
      "source": [
        "**Step 3: Build Similarity Model**"
      ],
      "metadata": {
        "id": "P-cQE4OVBa1F"
      }
    },
    {
      "cell_type": "code",
      "source": [
        "# Compute cosine similarity between customers\n",
        "similarity_matrix = cosine_similarity(features.drop(\"CustomerID\", axis=1))"
      ],
      "metadata": {
        "id": "zp9sicA8BYg_"
      },
      "execution_count": 14,
      "outputs": []
    },
    {
      "cell_type": "code",
      "source": [
        "# Convert similarity matrix to a DataFrame for easier lookup\n",
        "similarity_df = pd.DataFrame(similarity_matrix, index=features[\"CustomerID\"], columns=features[\"CustomerID\"])"
      ],
      "metadata": {
        "id": "P-On_JbBBhZV"
      },
      "execution_count": 15,
      "outputs": []
    },
    {
      "cell_type": "code",
      "source": [
        "# Display similarity matrix\n",
        "print(similarity_df.head())"
      ],
      "metadata": {
        "colab": {
          "base_uri": "https://localhost:8080/"
        },
        "id": "K-sTIMayBl4u",
        "outputId": "b2d4049e-3459-49ee-d4d5-d3eb25ff680c"
      },
      "execution_count": 16,
      "outputs": [
        {
          "output_type": "stream",
          "name": "stdout",
          "text": [
            "CustomerID     C0001     C0002     C0003     C0004     C0005     C0006  \\\n",
            "CustomerID                                                               \n",
            "C0001       1.000000  0.052000  0.492369  0.379079  0.028406  0.284740   \n",
            "C0002       0.052000  1.000000  0.159130 -0.292791  0.350937 -0.522098   \n",
            "C0003       0.492369  0.159130  1.000000  0.226020  0.170637  0.250571   \n",
            "C0004       0.379079 -0.292791  0.226020  1.000000 -0.361893  0.348686   \n",
            "C0005       0.028406  0.350937  0.170637 -0.361893  1.000000 -0.142503   \n",
            "\n",
            "CustomerID     C0007     C0008     C0009     C0010  ...     C0191     C0192  \\\n",
            "CustomerID                                          ...                       \n",
            "C0001      -0.011197  0.019120  0.055186  0.047216  ...  0.670136  0.440304   \n",
            "C0002      -0.117093  0.547018  0.658995  0.564052  ...  0.320620  0.467576   \n",
            "C0003       0.091077 -0.055206  0.161619  0.139974  ...  0.690074  0.513417   \n",
            "C0004      -0.239349  0.166690 -0.293212 -0.254958  ...  0.397026  0.086668   \n",
            "C0005       0.208241 -0.128446  0.355999  0.308426  ...  0.154965  0.280336   \n",
            "\n",
            "CustomerID     C0193     C0194     C0195     C0196     C0197     C0198  \\\n",
            "CustomerID                                                               \n",
            "C0001      -0.002453  0.012077  0.479590 -0.053260  0.027757  0.048714   \n",
            "C0002      -0.020250  0.135069 -0.091052 -0.627736  0.339621  0.587027   \n",
            "C0003       0.060234 -0.032787  0.410403 -0.094411  0.142172  0.182290   \n",
            "C0004      -0.149617  0.100261  0.522029  0.134443 -0.294359 -0.354421   \n",
            "C0005       0.136828 -0.076414 -0.131052 -0.204168  0.316911  0.403968   \n",
            "\n",
            "CustomerID     C0199     C0200  \n",
            "CustomerID                      \n",
            "C0001       0.041532 -0.051932  \n",
            "C0002       0.497224 -0.617146  \n",
            "C0003       0.131127 -0.129756  \n",
            "C0004       0.069448  0.222042  \n",
            "C0005       0.289417 -0.284439  \n",
            "\n",
            "[5 rows x 199 columns]\n"
          ]
        }
      ]
    },
    {
      "cell_type": "markdown",
      "source": [
        "**Step 4: Generate Recommendations**"
      ],
      "metadata": {
        "id": "p-RkTceHBtee"
      }
    },
    {
      "cell_type": "code",
      "source": [
        "# Function to get top 3 similar customers\n",
        "def get_top_similar_customers(customer_id, similarity_df, top_n=3):\n",
        "    # Exclude the customer itself\n",
        "    similar_customers = similarity_df[customer_id].drop(customer_id)\n",
        "    # Sort by similarity score and get top N\n",
        "    top_similar = similar_customers.sort_values(ascending=False).head(top_n).index.tolist()\n",
        "    return top_similar"
      ],
      "metadata": {
        "id": "4BPAD9xjBoKl"
      },
      "execution_count": 17,
      "outputs": []
    },
    {
      "cell_type": "code",
      "source": [
        "# Generate recommendations for the first 20 customers\n",
        "lookalike_dict = {}\n",
        "for customer_id in features[\"CustomerID\"].head(20):\n",
        "    lookalike_dict[customer_id] = get_top_similar_customers(customer_id, similarity_df)"
      ],
      "metadata": {
        "id": "_dA2WebdB0eP"
      },
      "execution_count": 18,
      "outputs": []
    },
    {
      "cell_type": "code",
      "source": [
        "# Convert dictionary to DataFrame for CSV export\n",
        "lookalike_df = pd.DataFrame(lookalike_dict.items(), columns=[\"CustomerID\", \"Top3Lookalikes\"])\n",
        "lookalike_df[\"Top3Lookalikes\"] = lookalike_df[\"Top3Lookalikes\"].apply(lambda x: \", \".join(x))"
      ],
      "metadata": {
        "id": "7ZPfjksVB4CO"
      },
      "execution_count": 19,
      "outputs": []
    },
    {
      "cell_type": "code",
      "source": [
        "# Save to CSV\n",
        "lookalike_df.to_csv(\"Jatin_Gahlot_Lookalike.csv\", index=False)\n"
      ],
      "metadata": {
        "id": "We75fPPUB7q1"
      },
      "execution_count": 22,
      "outputs": []
    },
    {
      "cell_type": "code",
      "source": [
        "# Display recommendations\n",
        "print(lookalike_df)"
      ],
      "metadata": {
        "colab": {
          "base_uri": "https://localhost:8080/"
        },
        "id": "3UySFraUCE0d",
        "outputId": "b6666708-1ca9-44df-9df0-7e683aac31c0"
      },
      "execution_count": 21,
      "outputs": [
        {
          "output_type": "stream",
          "name": "stdout",
          "text": [
            "   CustomerID       Top3Lookalikes\n",
            "0       C0001  C0025, C0191, C0137\n",
            "1       C0002  C0030, C0097, C0060\n",
            "2       C0003  C0181, C0031, C0191\n",
            "3       C0004  C0175, C0022, C0165\n",
            "4       C0005  C0123, C0130, C0150\n",
            "5       C0006  C0040, C0168, C0096\n",
            "6       C0007  C0112, C0080, C0078\n",
            "7       C0008  C0030, C0024, C0139\n",
            "8       C0009  C0019, C0060, C0121\n",
            "9       C0010  C0019, C0060, C0121\n",
            "10      C0011  C0171, C0191, C0048\n",
            "11      C0012  C0104, C0099, C0165\n",
            "12      C0013  C0101, C0082, C0188\n",
            "13      C0014  C0019, C0060, C0009\n",
            "14      C0015  C0036, C0058, C0144\n",
            "15      C0016  C0046, C0018, C0026\n",
            "16      C0017  C0075, C0105, C0124\n",
            "17      C0018  C0026, C0079, C0117\n",
            "18      C0019  C0060, C0119, C0121\n",
            "19      C0020  C0080, C0078, C0110\n"
          ]
        }
      ]
    }
  ]
}